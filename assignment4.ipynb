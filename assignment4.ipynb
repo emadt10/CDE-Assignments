{
 "cells": [
  {
   "cell_type": "code",
   "execution_count": 1,
   "id": "01cdf567",
   "metadata": {},
   "outputs": [
    {
     "name": "stdout",
     "output_type": "stream",
     "text": [
      "Alternate elements: [5]\n"
     ]
    }
   ],
   "source": [
    "# 1. \n",
    "lst = list(map(int, input(\"Enter numbers separated by space: \").split()))\n",
    "print(\"Alternate elements:\", lst[::2])"
   ]
  },
  {
   "cell_type": "code",
   "execution_count": 2,
   "id": "aaa1cfc5",
   "metadata": {},
   "outputs": [
    {
     "name": "stdout",
     "output_type": "stream",
     "text": [
      "Reversed list: [7]\n"
     ]
    }
   ],
   "source": [
    "# 2. \n",
    "lst = list(map(int, input(\"Enter numbers separated by space: \").split()))\n",
    "reversed_lst = lst[::-1]\n",
    "print(\"Reversed list:\", reversed_lst)"
   ]
  },
  {
   "cell_type": "code",
   "execution_count": 3,
   "id": "e7386139",
   "metadata": {},
   "outputs": [
    {
     "name": "stdout",
     "output_type": "stream",
     "text": [
      "Largest number: 9\n"
     ]
    }
   ],
   "source": [
    "# 3. \n",
    "lst = list(map(int, input(\"Enter numbers separated by space: \").split()))\n",
    "largest = lst[0]\n",
    "for num in lst:\n",
    "    if num > largest:\n",
    "        largest = num\n",
    "print(\"Largest number:\", largest)"
   ]
  },
  {
   "cell_type": "code",
   "execution_count": 4,
   "id": "a372ce03",
   "metadata": {},
   "outputs": [
    {
     "name": "stdout",
     "output_type": "stream",
     "text": [
      "Rotated list: [6]\n"
     ]
    }
   ],
   "source": [
    "# 4. \n",
    "lst = list(map(int, input(\"Enter numbers separated by space: \").split()))\n",
    "rotated = lst[1:] + lst[:1]\n",
    "print(\"Rotated list:\", rotated)"
   ]
  },
  {
   "cell_type": "code",
   "execution_count": 5,
   "id": "b4c80873",
   "metadata": {},
   "outputs": [
    {
     "name": "stdout",
     "output_type": "stream",
     "text": [
      "Updated string: 4\n"
     ]
    }
   ],
   "source": [
    "# 5. \n",
    "s = input(\"Enter a string: \")\n",
    "word = input(\"Enter word to delete: \")\n",
    "new_s = s.replace(word, \"\")\n",
    "print(\"Updated string:\", new_s)"
   ]
  },
  {
   "cell_type": "code",
   "execution_count": 6,
   "id": "3ed92c12",
   "metadata": {},
   "outputs": [
    {
     "name": "stdout",
     "output_type": "stream",
     "text": [
      "September 09, 2009\n"
     ]
    }
   ],
   "source": [
    "# 6. \n",
    "from datetime import datetime\n",
    "\n",
    "date_str = input(\"Enter date (mm/dd/yyyy): \")\n",
    "date_obj = datetime.strptime(date_str, \"%m/%d/%Y\")\n",
    "print(date_obj.strftime(\"%B %d, %Y\"))"
   ]
  },
  {
   "cell_type": "code",
   "execution_count": 7,
   "id": "43bab2f1",
   "metadata": {},
   "outputs": [
    {
     "name": "stdout",
     "output_type": "stream",
     "text": [
      "\n"
     ]
    }
   ],
   "source": [
    "# 7.\n",
    "s = input(\"Enter a string: \")\n",
    "new_s = ' '.join(word.capitalize() for word in s.split())\n",
    "print(new_s)"
   ]
  },
  {
   "cell_type": "code",
   "execution_count": 8,
   "id": "5d7028c6",
   "metadata": {},
   "outputs": [
    {
     "name": "stdout",
     "output_type": "stream",
     "text": [
      "Sum of row 1 = 32\n",
      "Sum of row 2 = 31\n",
      "Sum of row 3 = 63\n"
     ]
    }
   ],
   "source": [
    "# 8. \n",
    "matrix = [\n",
    "    [2, 11, 7, 12],\n",
    "    [5, 2, 9, 15],\n",
    "    [8, 3, 10, 42]\n",
    "]\n",
    "\n",
    "for i, row in enumerate(matrix, start=1):\n",
    "    print(f\"Sum of row {i} = {sum(row)}\")"
   ]
  },
  {
   "cell_type": "code",
   "execution_count": 9,
   "id": "3812917e",
   "metadata": {},
   "outputs": [
    {
     "name": "stdout",
     "output_type": "stream",
     "text": [
      "Matrix Addition: [[6, 8], [10, 12]]\n"
     ]
    }
   ],
   "source": [
    "# 9. \n",
    "A = [[1, 2], [3, 4]]\n",
    "B = [[5, 6], [7, 8]]\n",
    "\n",
    "result = [[A[i][j] + B[i][j] for j in range(len(A[0]))] for i in range(len(A))]\n",
    "print(\"Matrix Addition:\", result)"
   ]
  },
  {
   "cell_type": "code",
   "execution_count": 10,
   "id": "7fb097c7",
   "metadata": {},
   "outputs": [
    {
     "name": "stdout",
     "output_type": "stream",
     "text": [
      "Matrix Multiplication: [[19, 22], [43, 50]]\n"
     ]
    }
   ],
   "source": [
    "# 10.\n",
    "A = [[1, 2], [3, 4]]\n",
    "B = [[5, 6], [7, 8]]\n",
    "\n",
    "result = [[sum(A[i][k] * B[k][j] for k in range(len(B)))\n",
    "           for j in range(len(B[0]))] for i in range(len(A))]\n",
    "\n",
    "print(\"Matrix Multiplication:\", result)"
   ]
  }
 ],
 "metadata": {
  "kernelspec": {
   "display_name": "Python 3",
   "language": "python",
   "name": "python3"
  },
  "language_info": {
   "codemirror_mode": {
    "name": "ipython",
    "version": 3
   },
   "file_extension": ".py",
   "mimetype": "text/x-python",
   "name": "python",
   "nbconvert_exporter": "python",
   "pygments_lexer": "ipython3",
   "version": "3.12.0"
  }
 },
 "nbformat": 4,
 "nbformat_minor": 5
}
