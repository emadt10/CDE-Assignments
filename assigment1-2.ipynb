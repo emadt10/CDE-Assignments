{
 "cells": [
  {
   "cell_type": "code",
   "execution_count": 4,
   "id": "09158af8",
   "metadata": {},
   "outputs": [
    {
     "name": "stdout",
     "output_type": "stream",
     "text": [
      "Name:\t\t Emad\n",
      "Father's Name:\t Tariq\n",
      "Date of Birth:\t 01-06-2000\n"
     ]
    }
   ],
   "source": [
    "# Print Your Name with your Father name and Date of birth using suitable escape sequence character\n",
    "name=input(\"Enter Your Name: \")\n",
    "fname=input(\"Enter Your Father's Name: \")\n",
    "dob=input(\"Enter Your Date of Birth: \")\n",
    "\n",
    "print(\"Name:\\t\\t\", name)\n",
    "print(\"Father's Name:\\t\", fname)\n",
    "print(\"Date of Birth:\\t\", dob)"
   ]
  },
  {
   "cell_type": "code",
   "execution_count": 8,
   "id": "393b8a09",
   "metadata": {},
   "outputs": [
    {
     "name": "stdout",
     "output_type": "stream",
     "text": [
      "My name is Emad, my father's name is Tariq, and my date of birth is 01-06-2000.\n"
     ]
    }
   ],
   "source": [
    "#Write your small bio using variables and print it using print function\n",
    "def printbio():\n",
    "    bio = f\"My name is {name}, my father's name is {fname}, and my date of birth is {dob}.\"\n",
    "    print(bio)\n",
    "\n",
    "printbio()"
   ]
  },
  {
   "cell_type": "code",
   "execution_count": null,
   "id": "77309429",
   "metadata": {},
   "outputs": [],
   "source": [
    "#Write a program in which use all the operators we can use in Python\n",
    "\n",
    "a = 10\n",
    "b = 3\n",
    "\n",
    "# Arithmetic Operators\n",
    "print(\"Addition:\", a + b)\n",
    "print(\"Subtraction:\", a - b)\n",
    "print(\"Multiplication:\", a * b)\n",
    "print(\"Division:\", a / b)\n",
    "print(\"Floor Division:\", a // b)\n",
    "print(\"Modulus:\", a % b)\n",
    "print(\"Exponentiation:\", a ** b)\n",
    "\n",
    "# Assignment Operators\n",
    "c = a\n",
    "c += b\n",
    "print(\"c += b:\", c)\n",
    "c -= b\n",
    "print(\"c -= b:\", c)\n",
    "c *= b\n",
    "print(\"c *= b:\", c)\n",
    "c /= b\n",
    "print(\"c /= b:\", c)\n",
    "c //= b\n",
    "print(\"c //= b:\", c)\n",
    "c %= b\n",
    "print(\"c %= b:\", c)\n",
    "c **= b\n",
    "print(\"c **= b:\", c)\n",
    "\n",
    "# Comparison Operators\n",
    "print(\"a == b:\", a == b)\n",
    "print(\"a != b:\", a != b)\n",
    "print(\"a > b:\", a > b)\n",
    "print(\"a < b:\", a < b)\n",
    "print(\"a >= b:\", a >= b)\n",
    "print(\"a <= b:\", a <= b)\n",
    "\n",
    "# Logical Operators\n",
    "x = True\n",
    "y = False\n",
    "print(\"x and y:\", x and y)\n",
    "print(\"x or y:\", x or y)\n",
    "print(\"not x:\", not x)\n",
    "\n",
    "# Bitwise Operators\n",
    "print(\"a & b:\", a & b)\n",
    "print(\"a | b:\", a | b)\n",
    "print(\"a ^ b:\", a ^ b)\n",
    "\n"
   ]
  },
  {
   "cell_type": "code",
   "execution_count": 11,
   "id": "23c8d41f",
   "metadata": {},
   "outputs": [
    {
     "name": "stdout",
     "output_type": "stream",
     "text": [
      "eNGLISH Marks: 60\n",
      "Islamiat Marks: 78\n",
      "Maths Marks: 66\n",
      "Percentage: 68.0\n"
     ]
    }
   ],
   "source": [
    "#Completes the following steps of small task:Mention Marks of English , \n",
    "# Islamiat and Maths out of 100 in 3 different variables Mention Variable of Total Marks and assign 300 to it\n",
    "#Calculate Percentage\n",
    "\n",
    "eng_marks = int(input(\"Enter English Marks out of 100: \"))\n",
    "isl_marks = int(input(\"Enter Islamiat Marks out of 100: \"))\n",
    "math_marks = int(input(\"Enter Maths Marks out of 100: \"))\n",
    "\n",
    "total_marks = 300\n",
    "obtained_marks = eng_marks + isl_marks + math_marks\n",
    "percentage = (obtained_marks / total_marks) * 100\n",
    "\n",
    "print(\"eNGLISH Marks:\", eng_marks)\n",
    "print(\"Islamiat Marks:\", isl_marks)\n",
    "print(\"Maths Marks:\", math_marks)\n",
    "print(\"Percentage:\", percentage)"
   ]
  },
  {
   "cell_type": "code",
   "execution_count": null,
   "id": "16fcbfbd",
   "metadata": {},
   "outputs": [],
   "source": [
    "#Part -2 Python Basics (Conditional Statements)\n",
    "\n",
    "#A company decided to give bonus of 5% to employee \n",
    "#if his/her year of service is more than 5 years. \n",
    "#Ask user for their salary and year of service and print the net bonus amount.\n",
    "\n"
   ]
  },
  {
   "cell_type": "code",
   "execution_count": 10,
   "id": "8bbf54a3",
   "metadata": {},
   "outputs": [
    {
     "name": "stdout",
     "output_type": "stream",
     "text": [
      "You are eligible for a bonus of: 250.0\n"
     ]
    }
   ],
   "source": [
    "salary = float(input(\"Enter your salary: \"))\n",
    "years_of_service = int(input(\"Enter your years of service: \"))\n",
    "\n",
    "if years_of_service > 5:\n",
    "    bonus = 0.05 * salary\n",
    "    print(\"You are eligible for a bonus of:\", bonus)\n",
    "else:\n",
    "    print(\"You are not eligible for a bonus.\")\n"
   ]
  },
  {
   "cell_type": "code",
   "execution_count": null,
   "id": "5477d0b7",
   "metadata": {},
   "outputs": [
    {
     "name": "stdout",
     "output_type": "stream",
     "text": [
      "Age 18\n",
      "You are eligible to vote.\n"
     ]
    }
   ],
   "source": [
    "#Write a program to check whether a person is eligible for voting or not. (accept age from user) if age is greater than 17 eligible otherwise not eligible\n",
    "age=int(input(\"Enter your age: \"))\n",
    "if age>=18: \n",
    "    print(\"Age\", age)\n",
    "    print(\"You are eligible to vote.\")\n",
    "else:\n",
    "    print(\"You are not eligible to vote.\")\n"
   ]
  },
  {
   "cell_type": "code",
   "execution_count": 15,
   "id": "fce20584",
   "metadata": {},
   "outputs": [
    {
     "name": "stdout",
     "output_type": "stream",
     "text": [
      "odd no\n"
     ]
    }
   ],
   "source": [
    "#Write a program to check whether a number entered by user is even or odd.\n",
    "num=int(input(\"Enter a number : \"))\n",
    "if num %2==0:\n",
    "    print(\"Even Number\")\n",
    "else:\n",
    "    print(\"odd no\")"
   ]
  },
  {
   "cell_type": "code",
   "execution_count": 22,
   "id": "7d2f724e",
   "metadata": {},
   "outputs": [
    {
     "name": "stdout",
     "output_type": "stream",
     "text": [
      "divisble by 7---> 28\n"
     ]
    }
   ],
   "source": [
    "#Write a program to check whether a number is divisible by 7 or not. Show Answer\n",
    "num=int(input(\"Enter a number : \"))\n",
    "if num %7==0:\n",
    "    print(\"divisble by 7--->\",num)\n",
    "else:\n",
    "    print(\"not divisible\")"
   ]
  },
  {
   "cell_type": "code",
   "execution_count": 33,
   "id": "0e2d78d4",
   "metadata": {},
   "outputs": [
    {
     "name": "stdout",
     "output_type": "stream",
     "text": [
      "Divisible by 5 num = 25\n"
     ]
    }
   ],
   "source": [
    "#Write a program to display \"Hello\" if a number entered by user is a multiple of five , otherwise print \"Bye\".\n",
    "num=int(input(\"Enter a number which is multiple of 5 \"))\n",
    "if num % 5==0:\n",
    "    print(f\"Divisible by 5 num = {num}\")\n",
    "else:\n",
    "    print(\"bye\")"
   ]
  },
  {
   "cell_type": "code",
   "execution_count": 42,
   "id": "01c127b3",
   "metadata": {},
   "outputs": [
    {
     "name": "stdout",
     "output_type": "stream",
     "text": [
      "entered numer:  45678\n",
      "8\n"
     ]
    }
   ],
   "source": [
    "#Write a program to display the last digit of a number.\n",
    "num=int(input(\"enter a number:\"))\n",
    "x=num %10\n",
    "print(\"entered numer: \", num)\n",
    "print(x)"
   ]
  },
  {
   "cell_type": "code",
   "execution_count": 43,
   "id": "10d7617a",
   "metadata": {},
   "outputs": [
    {
     "name": "stdout",
     "output_type": "stream",
     "text": [
      "It is a Rectangle\n"
     ]
    }
   ],
   "source": [
    "# Program to check whether shape is Square or Rectangle\n",
    "\n",
    "length = int(input(\"Enter length: \"))\n",
    "breadth = int(input(\"Enter breadth: \"))\n",
    "\n",
    "if length == breadth:\n",
    "    print(\"It is a Square\")\n",
    "else:\n",
    "    print(\"It is a Rectangle\")\n"
   ]
  },
  {
   "cell_type": "code",
   "execution_count": 44,
   "id": "c7e30deb",
   "metadata": {},
   "outputs": [
    {
     "name": "stdout",
     "output_type": "stream",
     "text": [
      "Greatest number is: 7\n"
     ]
    }
   ],
   "source": [
    "# Program to print the greatest number among two\n",
    "\n",
    "num1 = int(input(\"Enter first number: \"))\n",
    "num2 = int(input(\"Enter second number: \"))\n",
    "\n",
    "if num1 > num2:\n",
    "    print(\"Greatest number is:\", num1)\n",
    "elif num2 > num1:\n",
    "    print(\"Greatest number is:\", num2)\n",
    "else:\n",
    "    print(\"Both numbers are equal\")\n"
   ]
  },
  {
   "cell_type": "code",
   "execution_count": 51,
   "id": "5c393a4b",
   "metadata": {},
   "outputs": [
    {
     "name": "stdout",
     "output_type": "stream",
     "text": [
      "Orignal Total: 2000 Price After Discount: 1800.0\n"
     ]
    }
   ],
   "source": [
    "#A shop will give discount of 10% if the cost of purchased quantity is more than 1000. \n",
    "# Ask user for quantity Suppose, one unit will cost 100. Judge and print total cost for user.\n",
    "\n",
    "cost=int(input(\"Enter cost of 1 item\"))\n",
    "quantity=int(input(\"Enter the quantity purchased\"))\n",
    "total=cost*quantity\n",
    "discount = total * 0.10                       \n",
    "discounted_total = total - discount\n",
    "\n",
    "if total>1000:\n",
    "    print(f\"Orignal Total: {total} Price After Discount: {discounted_total}\")\n",
    "else:\n",
    "    print(f\"No Discount Applied Total Bill :{total}\")"
   ]
  },
  {
   "cell_type": "code",
   "execution_count": 52,
   "id": "33a70406",
   "metadata": {},
   "outputs": [
    {
     "name": "stdout",
     "output_type": "stream",
     "text": [
      "Your Grade is: B\n"
     ]
    }
   ],
   "source": [
    "# Program to print grade based on marks\n",
    "\n",
    "marks = int(input(\"Enter your marks: \"))\n",
    "\n",
    "if marks < 25:\n",
    "    grade = \"F\"\n",
    "elif marks >= 25 and marks < 45:\n",
    "    grade = \"E\"\n",
    "elif marks >= 45 and marks < 50:\n",
    "    grade = \"D\"\n",
    "elif marks >= 50 and marks < 60:\n",
    "    grade = \"C\"\n",
    "elif marks >= 60 and marks <= 80:\n",
    "    grade = \"B\"\n",
    "else:\n",
    "    grade = \"A\"\n",
    "\n",
    "print(\"Your Grade is:\", grade)\n"
   ]
  },
  {
   "cell_type": "code",
   "execution_count": 56,
   "id": "fb0a5ade",
   "metadata": {},
   "outputs": [
    {
     "name": "stdout",
     "output_type": "stream",
     "text": [
      "num of class attended,num_class_attended\n",
      "num of class held,num_class_held\n",
      "Percentage 88.88888888888889\n",
      "Eligible to sit in exam\n"
     ]
    }
   ],
   "source": [
    "#A student will not be allowed to sit in exam if his/her attendence is less than 75%.\n",
    "\n",
    "num_class_held=int(input(\"Enter number of classes held\"))\n",
    "num_class_attended=int(input(\"Enter number of classes attended\"))\n",
    "percentage=num_class_attended/num_class_held*100\n",
    "print(\"num of class attended,num_class_attended\")\n",
    "print(\"num of class held,num_class_held\")\n",
    "print(\"Percentage\",percentage)\n",
    "\n",
    "if percentage> 75:\n",
    "    print(\"Eligible to sit in exam\")\n",
    "else:\n",
    "    print(\"Not Eligible\")"
   ]
  },
  {
   "cell_type": "code",
   "execution_count": 65,
   "id": "45533d83",
   "metadata": {},
   "outputs": [
    {
     "name": "stdout",
     "output_type": "stream",
     "text": [
      "num of class attended 20\n",
      "num of class held 45\n",
      "Percentage 44.44444444444444\n",
      "Eligible to sit in exam\n"
     ]
    }
   ],
   "source": [
    "num_class_held=int(input(\"Enter number of classes held\"))\n",
    "num_class_attended=int(input(\"Enter number of classes attended\"))\n",
    "percentage=num_class_attended/num_class_held*100\n",
    "medical=input(\"Do you have medical cause Y or N\")\n",
    "print(\"num of class attended\",num_class_attended)\n",
    "print(\"num of class held\",num_class_held)\n",
    "print(\"Percentage\",percentage)\n",
    "\n",
    "if (percentage<75 and medical==\"Y\" or medical==\"y\"):\n",
    "    print(\"Eligible to sit in exam\")\n",
    "elif (percentage> 75 or medical==\"N\" or medical==\"N\"or medical==\"Y\"):\n",
    "    print(\"Eligible to sit in exam\")\n",
    "else:\n",
    "    print(\"Not Eligible\")"
   ]
  },
  {
   "cell_type": "code",
   "execution_count": 66,
   "id": "43fc568c",
   "metadata": {},
   "outputs": [
    {
     "name": "stdout",
     "output_type": "stream",
     "text": [
      "2000 is a Leap Year\n"
     ]
    }
   ],
   "source": [
    "# Program to check leap year\n",
    "\n",
    "year = int(input(\"Enter a year: \"))\n",
    "\n",
    "if (year % 400 == 0) or (year % 4 == 0 and year % 100 != 0):\n",
    "    print(year, \"is a Leap Year\")\n",
    "else:\n",
    "    print(year, \"is NOT a Leap Year\")\n"
   ]
  },
  {
   "cell_type": "code",
   "execution_count": 69,
   "id": "c812728c",
   "metadata": {},
   "outputs": [
    {
     "name": "stdout",
     "output_type": "stream",
     "text": [
      "He may work Anywhere\n"
     ]
    }
   ],
   "source": [
    "# Program to decide place of service\n",
    "\n",
    "age = int(input(\"Enter age: \"))\n",
    "gender = input(\"Enter gender (M/F): \")\n",
    "marital_status = input(\"Enter marital status (Y/N): \")\n",
    "\n",
    "if gender.upper() == \"F\":\n",
    "    print(\"She will work only in Urban Areas\")\n",
    "elif gender.upper() == \"M\" and 20 <= age <= 40:\n",
    "    print(\"He may work Anywhere\")\n",
    "elif gender.upper() == \"M\" and 40 < age <= 60:\n",
    "    print(\"He will work only in Urban Areas\")\n",
    "else:\n",
    "    print(\"ERROR\")\n"
   ]
  },
  {
   "cell_type": "code",
   "execution_count": 71,
   "id": "9c539e2e",
   "metadata": {},
   "outputs": [
    {
     "name": "stdout",
     "output_type": "stream",
     "text": [
      "Total Bill Amount: Rs. 500\n"
     ]
    }
   ],
   "source": [
    "# Program to calculate electricity bill\n",
    "\n",
    "units = int(input(\"Enter number of units: \"))\n",
    "\n",
    "if units <= 100:\n",
    "    bill = 0\n",
    "elif units <= 300:\n",
    "    bill = (units - 100) * 5\n",
    "else:\n",
    "    bill = (200 * 5) + (units - 300) * 10\n",
    "\n",
    "print(\"Total Bill Amount: Rs.\", bill)\n"
   ]
  },
  {
   "cell_type": "code",
   "execution_count": 70,
   "id": "e2fead3e",
   "metadata": {},
   "outputs": [
    {
     "name": "stdout",
     "output_type": "stream",
     "text": [
      "Oldest age is: 45\n",
      "Youngest age is: 32\n"
     ]
    }
   ],
   "source": [
    "# Program to find oldest and youngest\n",
    "\n",
    "age1 = int(input(\"Enter age of person 1: \"))\n",
    "age2 = int(input(\"Enter age of person 2: \"))\n",
    "age3 = int(input(\"Enter age of person 3: \"))\n",
    "\n",
    "oldest = max(age1, age2, age3)\n",
    "youngest = min(age1, age2, age3)\n",
    "\n",
    "print(\"Oldest age is:\", oldest)\n",
    "print(\"Youngest age is:\", youngest)\n"
   ]
  }
 ],
 "metadata": {
  "kernelspec": {
   "display_name": "Python 3",
   "language": "python",
   "name": "python3"
  },
  "language_info": {
   "codemirror_mode": {
    "name": "ipython",
    "version": 3
   },
   "file_extension": ".py",
   "mimetype": "text/x-python",
   "name": "python",
   "nbconvert_exporter": "python",
   "pygments_lexer": "ipython3",
   "version": "3.12.0"
  }
 },
 "nbformat": 4,
 "nbformat_minor": 5
}
