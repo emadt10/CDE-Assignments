{
 "cells": [
  {
   "cell_type": "code",
   "execution_count": null,
   "id": "987473e2",
   "metadata": {},
   "outputs": [
    {
     "name": "stdout",
     "output_type": "stream",
     "text": [
      "vowel 4\n"
     ]
    }
   ],
   "source": [
    "#1\n",
    "sentence=input(\"enter a text\")\n",
    "vowel=0\n",
    "\n",
    "for i in sentence:   \n",
    "    if i == 'a' or i == 'e' or i == 'i' or i == 'o' or i == 'u':\n",
    "        vowel+=1\n",
    "\n",
    "print(f\"vowel {vowel}\")"
   ]
  },
  {
   "cell_type": "code",
   "execution_count": 16,
   "id": "2ed6f4bf",
   "metadata": {},
   "outputs": [
    {
     "name": "stdout",
     "output_type": "stream",
     "text": [
      "Uppercase letters: 1\n",
      "Lowercase letters: 4\n",
      "Digits: 0\n",
      "Whitespaces: 0\n"
     ]
    }
   ],
   "source": [
    "#2\n",
    "sent = input(\"Enter a text: \")\n",
    "\n",
    "upper_count = 0\n",
    "lower_count = 0\n",
    "digit_count = 0\n",
    "space_count = 0\n",
    "\n",
    "for ch in sent:   \n",
    "    if ch.isupper():\n",
    "        upper_count += 1\n",
    "    elif ch.islower():\n",
    "        lower_count += 1\n",
    "    elif ch.isdigit():\n",
    "        digit_count += 1\n",
    "    elif ch.isspace():\n",
    "        space_count += 1\n",
    "\n",
    "print(\"Uppercase letters:\", upper_count)\n",
    "print(\"Lowercase letters:\", lower_count)\n",
    "print(\"Digits:\", digit_count)\n",
    "print(\"Whitespaces:\", space_count)\n"
   ]
  },
  {
   "cell_type": "code",
   "execution_count": 23,
   "id": "28b2e6cc",
   "metadata": {},
   "outputs": [
    {
     "name": "stdout",
     "output_type": "stream",
     "text": [
      "oellh\n"
     ]
    }
   ],
   "source": [
    "#3\n",
    "str=input(\"Enter new String \")\n",
    "new_str=str[-1]+str[1:-1]+str[0]\n",
    "\n",
    "print(new_str)"
   ]
  },
  {
   "cell_type": "code",
   "execution_count": 29,
   "id": "ab90dca9",
   "metadata": {},
   "outputs": [
    {
     "name": "stdout",
     "output_type": "stream",
     "text": [
      "enif\n"
     ]
    }
   ],
   "source": [
    "#4\n",
    "text=input(\"Enter a text\")\n",
    "newtxt=text[::-1]\n",
    "\n",
    "print(newtxt)"
   ]
  },
  {
   "cell_type": "code",
   "execution_count": null,
   "id": "d361f0f3",
   "metadata": {},
   "outputs": [
    {
     "name": "stdout",
     "output_type": "stream",
     "text": [
      "elloh\n"
     ]
    }
   ],
   "source": [
    "#5\n",
    "text_1 = input(\"Enter text: \")\n",
    "\n",
    "new_txt1 = text_1[1:] + text_1[0]\n",
    "print(new_txt1)\n",
    "\n"
   ]
  },
  {
   "cell_type": "code",
   "execution_count": 1,
   "id": "04d09795",
   "metadata": {},
   "outputs": [
    {
     "name": "stdout",
     "output_type": "stream",
     "text": [
      "E. T.\n"
     ]
    }
   ],
   "source": [
    "#6\n",
    "name = input(\"Enter your full name: \")\n",
    "\n",
    "initials = name[0].upper() + \". \"   \n",
    "\n",
    "for i in range(1, len(name)):\n",
    "    if name[i-1] == \" \":    \n",
    "        initials += name[i].upper() + \". \"\n",
    "\n",
    "print(initials.strip())\n"
   ]
  },
  {
   "cell_type": "code",
   "execution_count": null,
   "id": "ac702bbb",
   "metadata": {},
   "outputs": [
    {
     "name": "stdout",
     "output_type": "stream",
     "text": [
      "Palindrome text\n"
     ]
    }
   ],
   "source": [
    "#7\n",
    "inp = input(\"Enter a text: \")\n",
    "\n",
    "revers = inp[::-1]\n",
    "\n",
    "if inp.lower() == revers.lower():\n",
    "    print(\"Palindrome text\")\n",
    "else:\n",
    "    print(\"Not a palindrome\")\n"
   ]
  },
  {
   "cell_type": "code",
   "execution_count": 11,
   "id": "7331d959",
   "metadata": {},
   "outputs": [
    {
     "name": "stdout",
     "output_type": "stream",
     "text": [
      "SHIFT\n",
      "HIFTS\n",
      "IFTSH\n",
      "FTSHI\n",
      "TSHIF\n"
     ]
    }
   ],
   "source": [
    "#8\n",
    "s = \"SHIFT\"\n",
    "\n",
    "for i in range(len(s)):\n",
    "    rotated = s[i:] + s[:i]\n",
    "    print(rotated)\n",
    "\n"
   ]
  },
  {
   "cell_type": "code",
   "execution_count": 12,
   "id": "1c14048f",
   "metadata": {},
   "outputs": [
    {
     "name": "stdout",
     "output_type": "stream",
     "text": [
      "Password must be at least 8 characters long\n",
      "Password must contain at least one uppercase letter\n",
      "Password must contain at least one digit\n"
     ]
    }
   ],
   "source": [
    "password = input(\"Enter your password: \")\n",
    "\n",
    "valid = True\n",
    "\n",
    "if len(password) < 8:\n",
    "    print(\"Password must be at least 8 characters long\")\n",
    "    valid = False\n",
    "\n",
    "if not any(ch.isupper() for ch in password):\n",
    "    print(\"Password must contain at least one uppercase letter\")\n",
    "    valid = False\n",
    "\n",
    "if not any(ch.islower() for ch in password):\n",
    "    print(\"Password must contain at least one lowercase letter\")\n",
    "    valid = False\n",
    "\n",
    "if not any(ch.isdigit() for ch in password):\n",
    "    print(\"Password must contain at least one digit\")\n",
    "    valid = False\n",
    "\n",
    "if valid:\n",
    "    print(\"Password is valid!\")\n"
   ]
  }
 ],
 "metadata": {
  "kernelspec": {
   "display_name": "Python 3",
   "language": "python",
   "name": "python3"
  },
  "language_info": {
   "codemirror_mode": {
    "name": "ipython",
    "version": 3
   },
   "file_extension": ".py",
   "mimetype": "text/x-python",
   "name": "python",
   "nbconvert_exporter": "python",
   "pygments_lexer": "ipython3",
   "version": "3.12.0"
  }
 },
 "nbformat": 4,
 "nbformat_minor": 5
}
